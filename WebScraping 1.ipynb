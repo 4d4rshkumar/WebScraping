{
 "cells": [
  {
   "cell_type": "code",
   "execution_count": 7,
   "metadata": {},
   "outputs": [],
   "source": [
    "from urllib.request import urlopen as ureq"
   ]
  },
  {
   "cell_type": "code",
   "execution_count": 3,
   "metadata": {},
   "outputs": [],
   "source": [
    "from bs4 import BeautifulSoup as soup"
   ]
  },
  {
   "cell_type": "code",
   "execution_count": 8,
   "metadata": {},
   "outputs": [],
   "source": [
    "my_url=\"https://www.amazon.in/s?k=nord&ref=nb_sb_noss\""
   ]
  },
  {
   "cell_type": "code",
   "execution_count": 9,
   "metadata": {},
   "outputs": [],
   "source": [
    "uClient=ureq(my_url)"
   ]
  },
  {
   "cell_type": "code",
   "execution_count": 10,
   "metadata": {},
   "outputs": [],
   "source": [
    "pageHTML=uClient.read()"
   ]
  },
  {
   "cell_type": "code",
   "execution_count": 11,
   "metadata": {},
   "outputs": [],
   "source": [
    "uClient.close()"
   ]
  },
  {
   "cell_type": "code",
   "execution_count": 13,
   "metadata": {},
   "outputs": [],
   "source": [
    "page_soup=soup(pageHTML,\"html.parser\")"
   ]
  },
  {
   "cell_type": "code",
   "execution_count": 18,
   "metadata": {},
   "outputs": [],
   "source": [
    "containers=page_soup.findAll('div',{\"class\":\"a-section a-spacing-medium\"})"
   ]
  },
  {
   "cell_type": "code",
   "execution_count": 19,
   "metadata": {},
   "outputs": [
    {
     "name": "stdout",
     "output_type": "stream",
     "text": [
      "16\n"
     ]
    }
   ],
   "source": [
    "print(len(containers))"
   ]
  },
  {
   "cell_type": "code",
   "execution_count": 20,
   "metadata": {},
   "outputs": [
    {
     "name": "stdout",
     "output_type": "stream",
     "text": [
      "<div class=\"a-section a-spacing-medium\">\n",
      " <div class=\"sg-row\">\n",
      "  <div class=\"a-section a-spacing-micro s-min-height-small\">\n",
      "  </div>\n",
      " </div>\n",
      " <div class=\"sg-row\">\n",
      "  <div class=\"sg-col-4-of-24 sg-col-4-of-12 sg-col-4-of-36 sg-col-4-of-28 sg-col-4-of-16 sg-col sg-col-4-of-20 sg-col-4-of-32\">\n",
      "   <div class=\"sg-col-inner\">\n",
      "    <div class=\"a-section a-spacing-none\">\n",
      "     <span class=\"rush-component\" data-component-type=\"s-product-image\">\n",
      "      <a class=\"a-link-normal s-no-outline\" href=\"/OnePlus-Nord-Marble-256GB-Storage/dp/B0869855B8?dchild=1\" target=\"_blank\">\n",
      "       <div class=\"a-section aok-relative s-image-fixed-height\">\n",
      "        <img alt=\"OnePlus Nord 5G (Blue Marble, 12GB RAM, 256GB Storage)\" class=\"s-image\" data-image-index=\"0\" data-image-latency=\"s-product-image\" data-image-load=\"\" data-image-source-density=\"1\" onload=\"window.uet &amp;&amp; uet('cf')\" src=\"https://m.media-amazon.com/images/I/71Lx9l3NivL._AC_UY218_.jpg\" srcset=\"https://m.media-amazon.com/images/I/71Lx9l3NivL._AC_UY218_.jpg 1x, https://m.media-amazon.com/images/I/71Lx9l3NivL._AC_UY327_QL65_.jpg 1.5x, https://m.media-amazon.com/images/I/71Lx9l3NivL._AC_UY436_QL65_.jpg 2x, https://m.media-amazon.com/images/I/71Lx9l3NivL._AC_UY545_QL65_.jpg 2.5x, https://m.media-amazon.com/images/I/71Lx9l3NivL._AC_UY654_QL65_.jpg 3x\"/>\n",
      "       </div>\n",
      "      </a>\n",
      "     </span>\n",
      "    </div>\n",
      "   </div>\n",
      "  </div>\n",
      "  <div class=\"sg-col-4-of-12 sg-col-8-of-16 sg-col-16-of-24 sg-col-12-of-20 sg-col-24-of-32 sg-col sg-col-28-of-36 sg-col-20-of-28\">\n",
      "   <div class=\"sg-col-inner\">\n",
      "    <div class=\"sg-row\">\n",
      "     <div class=\"sg-col-4-of-12 sg-col-8-of-16 sg-col-12-of-32 sg-col-12-of-20 sg-col-12-of-36 sg-col sg-col-12-of-24 sg-col-12-of-28\">\n",
      "      <div class=\"sg-col-inner\">\n",
      "       <div class=\"a-section a-spacing-none\">\n",
      "        <h2 class=\"a-size-mini a-spacing-none a-color-base s-line-clamp-2\">\n",
      "         <a class=\"a-link-normal a-text-normal\" href=\"/OnePlus-Nord-Marble-256GB-Storage/dp/B0869855B8?dchild=1\" target=\"_blank\">\n",
      "          <span class=\"a-size-medium a-color-base a-text-normal\" dir=\"auto\">\n",
      "           OnePlus Nord 5G (Blue Marble, 12GB RAM, 256GB Storage)\n",
      "          </span>\n",
      "         </a>\n",
      "        </h2>\n",
      "       </div>\n",
      "       <div class=\"a-section a-spacing-none a-spacing-top-micro\">\n",
      "        <div class=\"a-row a-size-small\">\n",
      "         <span aria-label=\"4.1 out of 5 stars\">\n",
      "          <span class=\"a-declarative\" data-a-popover='{\"max-width\":\"700\",\"closeButton\":false,\"position\":\"triggerBottom\",\"url\":\"/review/widgets/average-customer-review/popover/ref=acr_search__popover?ie=UTF8&amp;asin=B0869855B8&amp;ref=acr_search__popover&amp;contextId=search\"}' data-action=\"a-popover\">\n",
      "           <a class=\"a-popover-trigger a-declarative\" href=\"javascript:void(0)\">\n",
      "            <i class=\"a-icon a-icon-star-small a-star-small-4 aok-align-bottom\">\n",
      "             <span class=\"a-icon-alt\">\n",
      "              4.1 out of 5 stars\n",
      "             </span>\n",
      "            </i>\n",
      "            <i class=\"a-icon a-icon-popover\">\n",
      "            </i>\n",
      "           </a>\n",
      "          </span>\n",
      "         </span>\n",
      "         <span aria-label=\"21,076\">\n",
      "          <a class=\"a-link-normal\" href=\"/OnePlus-Nord-Marble-256GB-Storage/dp/B0869855B8?dchild=1#customerReviews\" target=\"_blank\">\n",
      "           <span class=\"a-size-base\" dir=\"auto\">\n",
      "            21,076\n",
      "           </span>\n",
      "          </a>\n",
      "         </span>\n",
      "        </div>\n",
      "       </div>\n",
      "      </div>\n",
      "     </div>\n",
      "    </div>\n",
      "    <div class=\"sg-row\">\n",
      "     <div class=\"sg-col-4-of-24 sg-col-4-of-12 sg-col-4-of-36 sg-col-4-of-28 sg-col-4-of-16 sg-col sg-col-4-of-20 sg-col-4-of-32\">\n",
      "      <div class=\"sg-col-inner\">\n",
      "       <div class=\"a-section a-spacing-none a-spacing-top-small\">\n",
      "        <div class=\"a-row a-size-base a-color-base\">\n",
      "         <div class=\"a-row\">\n",
      "          <div class=\"a-row\">\n",
      "           <a class=\"a-size-base a-link-normal s-no-hover a-text-normal\" href=\"/OnePlus-Nord-Marble-256GB-Storage/dp/B0869855B8?dchild=1\" target=\"_blank\">\n",
      "            <span class=\"a-price\" data-a-color=\"price\" data-a-size=\"l\">\n",
      "             <span class=\"a-offscreen\">\n",
      "              ₹29,999\n",
      "             </span>\n",
      "             <span aria-hidden=\"true\">\n",
      "              <span class=\"a-price-symbol\">\n",
      "               ₹\n",
      "              </span>\n",
      "              <span class=\"a-price-whole\">\n",
      "               29,999\n",
      "              </span>\n",
      "             </span>\n",
      "            </span>\n",
      "           </a>\n",
      "           <span class=\"a-letter-space\">\n",
      "           </span>\n",
      "          </div>\n",
      "         </div>\n",
      "        </div>\n",
      "        <div class=\"a-row a-size-base a-color-secondary\">\n",
      "         <div class=\"a-row\">\n",
      "          <span class=\"a-color-secondary\">\n",
      "           <span class=\"a-truncate\" data-a-max-rows=\"1\" data-a-overflow-marker=\"&amp;hellip;\" data-a-word-break=\"normal\" style=\"line-height: 1.3em !important; max-height: 1.3em;\">\n",
      "            <span class=\"a-truncate-full\">\n",
      "             Save extra with No Cost EMI\n",
      "            </span>\n",
      "            <span aria-hidden=\"true\" class=\"a-truncate-cut a-hidden\">\n",
      "            </span>\n",
      "           </span>\n",
      "          </span>\n",
      "         </div>\n",
      "        </div>\n",
      "       </div>\n",
      "       <div class=\"a-section a-spacing-none a-spacing-top-micro\">\n",
      "        <div class=\"a-row a-size-base a-color-secondary s-align-children-center\">\n",
      "         <div class=\"a-row s-align-children-center\">\n",
      "          <span class=\"aok-inline-block s-image-logo-view\">\n",
      "           <span class=\"aok-relative s-icon-text-medium s-prime\">\n",
      "            <i aria-label=\"Amazon Prime\" class=\"a-icon a-icon-prime a-icon-medium\" role=\"img\">\n",
      "            </i>\n",
      "           </span>\n",
      "           <span>\n",
      "           </span>\n",
      "          </span>\n",
      "          <span aria-label=\"Get it by Tomorrow 11AM\">\n",
      "           <span dir=\"auto\">\n",
      "            Get it by\n",
      "           </span>\n",
      "           <span class=\"a-text-bold\" dir=\"auto\">\n",
      "            Tomorrow 11AM\n",
      "           </span>\n",
      "          </span>\n",
      "         </div>\n",
      "         <div class=\"a-row\">\n",
      "          <span aria-label=\"FREE Delivery by Amazon\">\n",
      "           <span dir=\"auto\">\n",
      "            FREE Delivery by Amazon\n",
      "           </span>\n",
      "          </span>\n",
      "         </div>\n",
      "        </div>\n",
      "       </div>\n",
      "      </div>\n",
      "     </div>\n",
      "     <div class=\"sg-col-4-of-12 sg-col-8-of-28 sg-col-4-of-16 sg-col-8-of-32 sg-col sg-col-8-of-20 sg-col-8-of-36 sg-col-8-of-24\">\n",
      "      <div class=\"sg-col-inner\">\n",
      "      </div>\n",
      "     </div>\n",
      "    </div>\n",
      "    <div class=\"sg-row\">\n",
      "     <div class=\"sg-col-20-of-24 sg-col-28-of-32 sg-col-16-of-20 sg-col sg-col-32-of-36 sg-col-8-of-12 sg-col-12-of-16 sg-col-24-of-28\">\n",
      "      <div class=\"sg-col-inner\">\n",
      "      </div>\n",
      "     </div>\n",
      "    </div>\n",
      "    <div class=\"sg-row\">\n",
      "     <div class=\"sg-col-20-of-24 sg-col-28-of-32 sg-col-16-of-20 sg-col sg-col-32-of-36 sg-col-8-of-12 sg-col-12-of-16 sg-col-24-of-28\">\n",
      "      <div class=\"sg-col-inner\">\n",
      "      </div>\n",
      "     </div>\n",
      "    </div>\n",
      "   </div>\n",
      "  </div>\n",
      " </div>\n",
      "</div>\n",
      "\n"
     ]
    }
   ],
   "source": [
    "print(soup.prettify(containers[0]))"
   ]
  },
  {
   "cell_type": "code",
   "execution_count": 36,
   "metadata": {},
   "outputs": [
    {
     "name": "stdout",
     "output_type": "stream",
     "text": [
      "OnePlus Nord 5G (Blue Marble, 12GB RAM, 256GB Storage)\n"
     ]
    }
   ],
   "source": [
    "print(containers[0].img[\"alt\"])"
   ]
  },
  {
   "cell_type": "code",
   "execution_count": 40,
   "metadata": {},
   "outputs": [
    {
     "name": "stdout",
     "output_type": "stream",
     "text": [
      "4.1 out of 5 stars\n"
     ]
    }
   ],
   "source": [
    "print(containers[0].find('span',class_=\"a-icon-alt\").text)"
   ]
  },
  {
   "cell_type": "code",
   "execution_count": 41,
   "metadata": {},
   "outputs": [
    {
     "name": "stdout",
     "output_type": "stream",
     "text": [
      "29,999\n"
     ]
    }
   ],
   "source": [
    "print(containers[0].find('span',class_=\"a-price-whole\").text)"
   ]
  },
  {
   "cell_type": "code",
   "execution_count": null,
   "metadata": {},
   "outputs": [],
   "source": []
  }
 ],
 "metadata": {
  "kernelspec": {
   "display_name": "Python 3",
   "language": "python",
   "name": "python3"
  },
  "language_info": {
   "codemirror_mode": {
    "name": "ipython",
    "version": 3
   },
   "file_extension": ".py",
   "mimetype": "text/x-python",
   "name": "python",
   "nbconvert_exporter": "python",
   "pygments_lexer": "ipython3",
   "version": "3.8.3"
  }
 },
 "nbformat": 4,
 "nbformat_minor": 4
}
